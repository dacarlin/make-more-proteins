{
 "cells": [
  {
   "cell_type": "code",
   "execution_count": 1,
   "id": "a2b8fa89",
   "metadata": {},
   "outputs": [],
   "source": [
    "from tokenizers.trainers import BpeTrainer \n",
    "from tokenizers import Tokenizer\n",
    "from tokenizers.models import BPE\n",
    "from tokenizers.pre_tokenizers import Whitespace\n",
    "from makemore import BpeProteinDataset\n",
    "from biotite.sequence.io.fasta import FastaFile"
   ]
  },
  {
   "cell_type": "code",
   "execution_count": 2,
   "id": "4971c8c3",
   "metadata": {},
   "outputs": [],
   "source": [
    "# read in data"
   ]
  },
  {
   "cell_type": "code",
   "execution_count": 3,
   "id": "44b5164c",
   "metadata": {},
   "outputs": [
    {
     "data": {
      "text/plain": [
       "(['MTGPDQFPQFPPGFVWGVATASYQIEGAVTEDGRGPSVWDTFSHTPGRTHDGDTGDVADDHYHRYPEDLDLMAGLGVNAYRFSIAWPRIQPTGEGPVNPAGLAFYDRLVDAMLAKGITPAATLYHWDLPQALEDKGGWTQRDIPHYFAEYTAAVADKLGDRVGLWCTLNEPFIVTAFGYVLGVHAPGRQLFTDAFAVAHHQLLGHGLAVEALRAANVTGTIGVVNALAPVHPDSDDPADHVAAGILDTLMNRTYTDPLLLGRYPEETPAVYAGADLSVVKDGDLSTISTPIDFFGVNFYNPHRVRAAAPEQFGTGPLNFETVEYPGVPTTAMGWPVVPEAFTELLTGLHERYGEKLPPIYITENGAAYDDEPGPDGRVRDDDRIAYLDRHLRAVHAAMAAGADVRGYFCWSFLDNFEWAEGYQKRFGLVRVDYETLERTPKASYDWYRSVIALAAAVGP',\n",
       "  'MHHLPQDFVWGVATAAYQIEGAVDVDGRSPSIWDTFGRVPGAIANGDTGDVACDHYHRWPEDLGLIRELGVDAYRFSVAWPRVIPTGTGAVNAKGLAFYDRLVDELLAAGIRPFVTLYHWDLPQVLQDKGGWPARHTAEAFADYAAVVAGALGDRVTDWTTVNEPLCVAWIGHLEGTMAPGLRDLHRAIDASHHVLLGHGLATQAIRAAASARADVGIVLNPSPADAATDRPEDAAAAVRADGHTNRWWLDPLYGRGYPRDMVETYGYEPPVLDGDLETIATPTDYLGVNYYFRAVVADDPSGPAPYAKQVEVSGRHTAMGWEVNPGGLARILTRIAADYAPERIFVTEQGSAWPDVVEPDGSIADKDRIDYLEQHLEAINAAVDAGVPLAGYFVWSLLDNLEWAYGYDKRFGLVHVDYATQQRTMKASGRRYAEIVREHRAARG'],\n",
       " 15230)"
      ]
     },
     "execution_count": 3,
     "metadata": {},
     "output_type": "execute_result"
    }
   ],
   "source": [
    "fasta = FastaFile.read(\"./datasets/bglb.fa\")\n",
    "proteins = [] \n",
    "\n",
    "for header, sequence in fasta.items():\n",
    "    if 256 <= len(sequence) <= 512:\n",
    "        proteins.append(sequence)\n",
    "    \n",
    "proteins[:2], len(proteins) "
   ]
  },
  {
   "cell_type": "code",
   "execution_count": 4,
   "id": "79a5a2aa",
   "metadata": {},
   "outputs": [
    {
     "data": {
      "text/plain": [
       "512"
      ]
     },
     "execution_count": 4,
     "metadata": {},
     "output_type": "execute_result"
    }
   ],
   "source": [
    "max_word_length = max(len(w) for w in proteins)\n",
    "\n",
    "max_word_length"
   ]
  },
  {
   "cell_type": "code",
   "execution_count": 5,
   "id": "46644b2e",
   "metadata": {},
   "outputs": [],
   "source": [
    "# train the tokenizer "
   ]
  },
  {
   "cell_type": "code",
   "execution_count": 6,
   "id": "a282abd7",
   "metadata": {},
   "outputs": [],
   "source": [
    "tokenizer = Tokenizer(BPE(unk_token=\"[UNK]\"))\n",
    "tokenizer.pre_tokenizer = Whitespace()\n",
    "trainer = BpeTrainer(\n",
    "        vocab_size=30_000,\n",
    "        min_frequency=0, \n",
    "        special_tokens=[\"[UNK]\", \"[CLS]\", \"[SEP]\", \"[PAD]\", \"[MASK]\"])\n",
    "\n",
    "tokenizer.train_from_iterator(proteins, trainer)\n",
    "\n",
    "tokenizer.save(\"tokenizer-bglb.json\")"
   ]
  },
  {
   "cell_type": "code",
   "execution_count": 7,
   "id": "088885a8",
   "metadata": {},
   "outputs": [
    {
     "data": {
      "text/plain": [
       "<tokenizers.Tokenizer at 0x7f804b334200>"
      ]
     },
     "execution_count": 7,
     "metadata": {},
     "output_type": "execute_result"
    }
   ],
   "source": [
    "# load saved tokenizer \n",
    "\n",
    "tokenizer = Tokenizer.from_file(\"tokenizer-bglb.json\")\n",
    "\n",
    "tokenizer"
   ]
  },
  {
   "cell_type": "code",
   "execution_count": 8,
   "id": "5c0a8375",
   "metadata": {},
   "outputs": [
    {
     "data": {
      "text/plain": [
       "[15, 1498]"
      ]
     },
     "execution_count": 8,
     "metadata": {},
     "output_type": "execute_result"
    }
   ],
   "source": [
    "tokenizer.encode(\"MCAT\").ids"
   ]
  },
  {
   "cell_type": "code",
   "execution_count": 11,
   "id": "25e76214",
   "metadata": {},
   "outputs": [
    {
     "data": {
      "text/plain": [
       "'M CAT'"
      ]
     },
     "execution_count": 11,
     "metadata": {},
     "output_type": "execute_result"
    }
   ],
   "source": [
    "tokenizer.decode([15, 1498])"
   ]
  },
  {
   "cell_type": "code",
   "execution_count": 12,
   "id": "7c11d309",
   "metadata": {},
   "outputs": [
    {
     "data": {
      "text/plain": [
       "30000"
      ]
     },
     "execution_count": 12,
     "metadata": {},
     "output_type": "execute_result"
    }
   ],
   "source": [
    "tokenizer.get_vocab_size()"
   ]
  },
  {
   "cell_type": "code",
   "execution_count": 13,
   "id": "0af0fb80",
   "metadata": {},
   "outputs": [],
   "source": [
    "dataset = BpeProteinDataset(proteins, tokenizer, max_word_length)"
   ]
  },
  {
   "cell_type": "code",
   "execution_count": 14,
   "id": "a2e896f2",
   "metadata": {},
   "outputs": [
    {
     "name": "stdout",
     "output_type": "stream",
     "text": [
      "(tensor([    0,  2797, 10970,   733,  2404,  2290, 12386,  3516,   308,  2117,\n",
      "        10211,  7850,  5414,   124,  5277,  8157,     8, 22490,   845,  1102,\n",
      "          171,  1269, 26455,  4770,   103,   432,   281,   698,   419,   190,\n",
      "        27792,   128,    27,  3445,  1057,  6766,   867,   112,   272,  1082,\n",
      "          158,  1556,    69,  6985,     8,  1776,   209,    78,   181, 12522,\n",
      "          590,  4030,  1236,  2819,    83,   460,  1233,   403,   316,    50,\n",
      "          302,  1569,  1632,   558,   564,    68,  7617,    80, 13887,  6499,\n",
      "         2414,  2222,  1054, 24265,    36,   641,    48,    18,   329,  7635,\n",
      "         1665,  5052,  8020,  8131,   365, 11894, 26574,  4715, 20760,  1689,\n",
      "         5116, 20263,  2630,  3991,   312,  9613, 17876, 24847,  6709,  8531,\n",
      "         3657,  2752, 16147,   401,  2095,   602,    97,   294,     0,     0,\n",
      "            0,     0,     0,     0,     0,     0,     0,     0,     0,     0,\n",
      "            0,     0,     0,     0,     0,     0,     0,     0,     0,     0,\n",
      "            0,     0,     0,     0,     0,     0,     0,     0,     0,     0,\n",
      "            0,     0,     0,     0,     0,     0,     0,     0,     0,     0,\n",
      "            0,     0,     0,     0,     0,     0,     0,     0,     0,     0,\n",
      "            0,     0,     0,     0,     0,     0,     0,     0,     0,     0,\n",
      "            0,     0,     0,     0,     0,     0,     0,     0,     0,     0,\n",
      "            0,     0,     0,     0,     0,     0,     0,     0,     0,     0,\n",
      "            0,     0,     0,     0,     0,     0,     0,     0,     0,     0,\n",
      "            0,     0,     0,     0,     0,     0,     0,     0,     0,     0,\n",
      "            0,     0,     0,     0,     0,     0,     0,     0,     0,     0,\n",
      "            0,     0,     0,     0,     0,     0,     0,     0,     0,     0,\n",
      "            0,     0,     0,     0,     0,     0,     0,     0,     0,     0,\n",
      "            0,     0,     0,     0,     0,     0,     0,     0,     0,     0,\n",
      "            0,     0,     0,     0,     0,     0,     0,     0,     0,     0,\n",
      "            0,     0,     0,     0,     0,     0,     0,     0,     0,     0,\n",
      "            0,     0,     0,     0,     0,     0,     0,     0,     0,     0,\n",
      "            0,     0,     0,     0,     0,     0,     0,     0,     0,     0,\n",
      "            0,     0,     0,     0,     0,     0,     0,     0,     0,     0,\n",
      "            0,     0,     0,     0,     0,     0,     0,     0,     0,     0,\n",
      "            0,     0,     0,     0,     0,     0,     0,     0,     0,     0,\n",
      "            0,     0,     0,     0,     0,     0,     0,     0,     0,     0,\n",
      "            0,     0,     0,     0,     0,     0,     0,     0,     0,     0,\n",
      "            0,     0,     0,     0,     0,     0,     0,     0,     0,     0,\n",
      "            0,     0,     0,     0,     0,     0,     0,     0,     0,     0,\n",
      "            0,     0,     0,     0,     0,     0,     0,     0,     0,     0,\n",
      "            0,     0,     0,     0,     0,     0,     0,     0,     0,     0,\n",
      "            0,     0,     0,     0,     0,     0,     0,     0,     0,     0,\n",
      "            0,     0,     0,     0,     0,     0,     0,     0,     0,     0,\n",
      "            0,     0,     0,     0,     0,     0,     0,     0,     0,     0,\n",
      "            0,     0,     0,     0,     0,     0,     0,     0,     0,     0,\n",
      "            0,     0,     0,     0,     0,     0,     0,     0,     0,     0,\n",
      "            0,     0,     0,     0,     0,     0,     0,     0,     0,     0,\n",
      "            0,     0,     0,     0,     0,     0,     0,     0,     0,     0,\n",
      "            0,     0,     0,     0,     0,     0,     0,     0,     0,     0,\n",
      "            0,     0,     0,     0,     0,     0,     0,     0,     0,     0,\n",
      "            0,     0,     0,     0,     0,     0,     0,     0,     0,     0,\n",
      "            0,     0,     0,     0,     0,     0,     0,     0,     0,     0,\n",
      "            0,     0,     0,     0,     0,     0,     0,     0,     0,     0,\n",
      "            0,     0,     0,     0,     0,     0,     0,     0,     0,     0,\n",
      "            0,     0,     0]), tensor([ 2797, 10970,   733,  2404,  2290, 12386,  3516,   308,  2117, 10211,\n",
      "         7850,  5414,   124,  5277,  8157,     8, 22490,   845,  1102,   171,\n",
      "         1269, 26455,  4770,   103,   432,   281,   698,   419,   190, 27792,\n",
      "          128,    27,  3445,  1057,  6766,   867,   112,   272,  1082,   158,\n",
      "         1556,    69,  6985,     8,  1776,   209,    78,   181, 12522,   590,\n",
      "         4030,  1236,  2819,    83,   460,  1233,   403,   316,    50,   302,\n",
      "         1569,  1632,   558,   564,    68,  7617,    80, 13887,  6499,  2414,\n",
      "         2222,  1054, 24265,    36,   641,    48,    18,   329,  7635,  1665,\n",
      "         5052,  8020,  8131,   365, 11894, 26574,  4715, 20760,  1689,  5116,\n",
      "        20263,  2630,  3991,   312,  9613, 17876, 24847,  6709,  8531,  3657,\n",
      "         2752, 16147,   401,  2095,   602,    97,   294,     0,    -1,    -1,\n",
      "           -1,    -1,    -1,    -1,    -1,    -1,    -1,    -1,    -1,    -1,\n",
      "           -1,    -1,    -1,    -1,    -1,    -1,    -1,    -1,    -1,    -1,\n",
      "           -1,    -1,    -1,    -1,    -1,    -1,    -1,    -1,    -1,    -1,\n",
      "           -1,    -1,    -1,    -1,    -1,    -1,    -1,    -1,    -1,    -1,\n",
      "           -1,    -1,    -1,    -1,    -1,    -1,    -1,    -1,    -1,    -1,\n",
      "           -1,    -1,    -1,    -1,    -1,    -1,    -1,    -1,    -1,    -1,\n",
      "           -1,    -1,    -1,    -1,    -1,    -1,    -1,    -1,    -1,    -1,\n",
      "           -1,    -1,    -1,    -1,    -1,    -1,    -1,    -1,    -1,    -1,\n",
      "           -1,    -1,    -1,    -1,    -1,    -1,    -1,    -1,    -1,    -1,\n",
      "           -1,    -1,    -1,    -1,    -1,    -1,    -1,    -1,    -1,    -1,\n",
      "           -1,    -1,    -1,    -1,    -1,    -1,    -1,    -1,    -1,    -1,\n",
      "           -1,    -1,    -1,    -1,    -1,    -1,    -1,    -1,    -1,    -1,\n",
      "           -1,    -1,    -1,    -1,    -1,    -1,    -1,    -1,    -1,    -1,\n",
      "           -1,    -1,    -1,    -1,    -1,    -1,    -1,    -1,    -1,    -1,\n",
      "           -1,    -1,    -1,    -1,    -1,    -1,    -1,    -1,    -1,    -1,\n",
      "           -1,    -1,    -1,    -1,    -1,    -1,    -1,    -1,    -1,    -1,\n",
      "           -1,    -1,    -1,    -1,    -1,    -1,    -1,    -1,    -1,    -1,\n",
      "           -1,    -1,    -1,    -1,    -1,    -1,    -1,    -1,    -1,    -1,\n",
      "           -1,    -1,    -1,    -1,    -1,    -1,    -1,    -1,    -1,    -1,\n",
      "           -1,    -1,    -1,    -1,    -1,    -1,    -1,    -1,    -1,    -1,\n",
      "           -1,    -1,    -1,    -1,    -1,    -1,    -1,    -1,    -1,    -1,\n",
      "           -1,    -1,    -1,    -1,    -1,    -1,    -1,    -1,    -1,    -1,\n",
      "           -1,    -1,    -1,    -1,    -1,    -1,    -1,    -1,    -1,    -1,\n",
      "           -1,    -1,    -1,    -1,    -1,    -1,    -1,    -1,    -1,    -1,\n",
      "           -1,    -1,    -1,    -1,    -1,    -1,    -1,    -1,    -1,    -1,\n",
      "           -1,    -1,    -1,    -1,    -1,    -1,    -1,    -1,    -1,    -1,\n",
      "           -1,    -1,    -1,    -1,    -1,    -1,    -1,    -1,    -1,    -1,\n",
      "           -1,    -1,    -1,    -1,    -1,    -1,    -1,    -1,    -1,    -1,\n",
      "           -1,    -1,    -1,    -1,    -1,    -1,    -1,    -1,    -1,    -1,\n",
      "           -1,    -1,    -1,    -1,    -1,    -1,    -1,    -1,    -1,    -1,\n",
      "           -1,    -1,    -1,    -1,    -1,    -1,    -1,    -1,    -1,    -1,\n",
      "           -1,    -1,    -1,    -1,    -1,    -1,    -1,    -1,    -1,    -1,\n",
      "           -1,    -1,    -1,    -1,    -1,    -1,    -1,    -1,    -1,    -1,\n",
      "           -1,    -1,    -1,    -1,    -1,    -1,    -1,    -1,    -1,    -1,\n",
      "           -1,    -1,    -1,    -1,    -1,    -1,    -1,    -1,    -1,    -1,\n",
      "           -1,    -1,    -1,    -1,    -1,    -1,    -1,    -1,    -1,    -1,\n",
      "           -1,    -1,    -1,    -1,    -1,    -1,    -1,    -1,    -1,    -1,\n",
      "           -1,    -1,    -1,    -1,    -1,    -1,    -1,    -1,    -1,    -1,\n",
      "           -1,    -1,    -1,    -1,    -1,    -1,    -1,    -1,    -1,    -1,\n",
      "           -1,    -1,    -1,    -1,    -1,    -1,    -1,    -1,    -1,    -1,\n",
      "           -1,    -1,    -1]))\n"
     ]
    }
   ],
   "source": [
    "for item in dataset:\n",
    "    print(item)\n",
    "    break "
   ]
  },
  {
   "cell_type": "code",
   "execution_count": null,
   "id": "c630932a",
   "metadata": {},
   "outputs": [],
   "source": []
  }
 ],
 "metadata": {
  "kernelspec": {
   "display_name": "Python 3 (ipykernel)",
   "language": "python",
   "name": "python3"
  },
  "language_info": {
   "codemirror_mode": {
    "name": "ipython",
    "version": 3
   },
   "file_extension": ".py",
   "mimetype": "text/x-python",
   "name": "python",
   "nbconvert_exporter": "python",
   "pygments_lexer": "ipython3",
   "version": "3.11.3"
  }
 },
 "nbformat": 4,
 "nbformat_minor": 5
}
